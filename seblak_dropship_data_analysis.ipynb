{
 "cells": [
  {
   "cell_type": "markdown",
   "metadata": {},
   "source": [
    "---  \n",
    "  \n",
    "Graded Challenge 3  \n",
    "  \n",
    "Nama  : Nicku Rendy Perdana  \n",
    "Batch : HKC-012  \n",
    "  \n",
    "Program ini dibuat untuk melakukan identifikasi produk yang sedang viral di Tokopedia sebagai langkah awal untuk menjajaki potensi bisnis sebagai dropshipper produk yang viral dan berpotensi menguntungkan dengan teknik web scrapping.  \n",
    "  \n",
    "---"
   ]
  },
  {
   "cell_type": "markdown",
   "metadata": {},
   "source": [
    "# A. Tahap 1: Pengantar/_Business Understanding_"
   ]
  },
  {
   "cell_type": "markdown",
   "metadata": {},
   "source": [
    "**Problem Statement**: Sebagai seorang Data Analyst, saya telah menyadari bahwa bergantung pada satu jenis pendapatan saja tidak cukup. Saya masih belum bisa membuat produk sendiri di tengah keterbatasan modal dan hanya sanggup untuk menyiapkan modal untuk memromosikan barang jualan."
   ]
  },
  {
   "cell_type": "markdown",
   "metadata": {},
   "source": [
    "## A1. Kerangka Pemahaman Bisnis SMART"
   ]
  },
  {
   "cell_type": "markdown",
   "metadata": {},
   "source": [
    "**Specific**: Meningkatkan pemasukan bulanan dengan menjalankan bisnis _dropshipping_ di platform _e-commerce_ Tokopedia."
   ]
  },
  {
   "cell_type": "markdown",
   "metadata": {},
   "source": [
    "**Measurable**: Meningkatkan pemasukan bulanan paling sedikit Rp5 juta setiap bulannya."
   ]
  },
  {
   "cell_type": "markdown",
   "metadata": {},
   "source": [
    "**Achievable**: Sebagai lulusan _bootcamp_ Data Science Hacktiv8, hal yang perlu dilakukan secara runut ialah sebagaimana berikut.  \n",
    "- Analisis situasi terkini penjualan produk seblak di Tokopedia dengan menggunakan teknik _web scrapping_ terhadap 10 halaman pertama pencarian produk seblak di Tokopedia. Teknik ini memungkinkan saya untuk mengumpulkan data terkait daftar nama-nama produk yang dijual beserta harga, banyaknya produk terjual, nama toko penjual, lokasi toko, beserta nilai pembeli produk tersebut.  \n",
    "- Membersihkan data hasil _web scrapping_ ke dalam bentuk tabel yang dapat dieksplore, diolah, dan dianalisis  \n",
    "- Melakukan analisis statistik deskriptif untuk menghasilkan kesimpulan sebaran dan kecenderungan data-data harga, banyak produk terjual, dan penilaian pembeli produk seblak. \n",
    "- Melakukan analisis statistik inferensial untuk menghasilkan kesimpulan produk mana yang banyak terjual, produk yang berpotensi laris, dan potensi keuntungan yang didapat."
   ]
  },
  {
   "cell_type": "markdown",
   "metadata": {},
   "source": [
    "**Relevant**:  \n",
    "- Seblak menjadi salah satu jajanan/produk yang kini sedang viral dicari dan diperbincangkan di berbagai ranah daring maupun luring.\n",
    "- Belanja daring menjadi solusi untuk memperoleh barang yang hanya tersedia/lebih murah untuk diperoleh dari area-area tertentu."
   ]
  },
  {
   "cell_type": "markdown",
   "metadata": {},
   "source": [
    "**Time-bound**: Tujuan ini akan ditetapkan untuk berlangsung selama 3 bulan pertama sejak memulai bisnis _dropshipping_ guna memberikan waktu untuk mencapai target pemasukan bulanan tambahan sebesar Rp 5 juta."
   ]
  },
  {
   "cell_type": "markdown",
   "metadata": {},
   "source": [
    "# B. Tahap 2: _Web Scraping_"
   ]
  },
  {
   "cell_type": "markdown",
   "metadata": {},
   "source": [
    "## B1. Kunjungi dan _scrap_ situs web  \n",
    "  \n",
    "- Diketahui, alamat web ketika melakukan pencarian kata kunci `seblak` adalah: https://www.tokopedia.com/search?navsource=&page=1&q=seblak&srp_component_id=02.01.00.00&srp_page_id=&srp_page_title=&st=.\n",
    "- Ketika berpindah ke halaman selanjutnya (contoh: halaman 2), alamat web berubah menjadi https://www.tokopedia.com/search?navsource=&page=2&q=seblak&srp_component_id=02.01.00.00&srp_page_id=&srp_page_title=&st=.\n",
    "- Alamat website dapat di-loop secara otomatis dengan koding python karena berpola pada string 'page={_}'  \n",
    "- Lakukan _scrapping_ terhadap teks yang ada di dalam elemen-elemen html untuk info `Nama Produk`, `Harga Produk`, `Penjual`, `Kota Toko`, `Banyaknya Terjual`, dan `Rating Produk`.\n"
   ]
  },
  {
   "cell_type": "code",
   "execution_count": 3,
   "metadata": {},
   "outputs": [],
   "source": [
    "# Load modul-modul yang dibutuhkan\n",
    "\n",
    "from selenium import webdriver # impor paket `selenium` untuk menjalankan `webdriver`\n",
    "from bs4 import BeautifulSoup # impor paket `bs4` untuk menjalankan `BeautifulSoup`\n",
    "# import requests \n",
    "import time # impor modul `time` untuk menjalankan proses berkaitan dengan penyimpanan nilai waktu\n",
    "import pandas as pd # impor modul `pandas` untuk alat analisis tabel/dataframe\n",
    "from datetime import datetime # impor paket `datetime` untuk menjalankan proses yang berkaitan dengan waktu dan tanggal\n",
    "import pytz # impor modul `pytz` untuk menjalankan proses yang berkaitan dengan info soal zona waktu\n",
    "from scipy import stats # impor paket `pytz` untuk menjalankan `stats`\n",
    "import numpy as np # import modul `numpy`"
   ]
  },
  {
   "cell_type": "code",
   "execution_count": 10,
   "metadata": {},
   "outputs": [
    {
     "name": "stdout",
     "output_type": "stream",
     "text": [
      "Start page scrapping at targeted url page 1 on 2024/01/05, 14:00:58\n",
      ">> Completed page scrapping at targeted url page 1 on 2024/01/05, 14:01:19\n",
      "Start page scrapping at targeted url page 2 on 2024/01/05, 14:01:19\n",
      ">> Completed page scrapping at targeted url page 2 on 2024/01/05, 14:01:39\n",
      "Start page scrapping at targeted url page 3 on 2024/01/05, 14:01:39\n",
      ">> Completed page scrapping at targeted url page 3 on 2024/01/05, 14:01:57\n",
      "Start page scrapping at targeted url page 4 on 2024/01/05, 14:01:57\n",
      ">> Completed page scrapping at targeted url page 4 on 2024/01/05, 14:02:14\n",
      "Start page scrapping at targeted url page 5 on 2024/01/05, 14:02:14\n",
      ">> Completed page scrapping at targeted url page 5 on 2024/01/05, 14:02:31\n",
      "Start page scrapping at targeted url page 6 on 2024/01/05, 14:02:31\n",
      ">> Completed page scrapping at targeted url page 6 on 2024/01/05, 14:02:52\n",
      "Start page scrapping at targeted url page 7 on 2024/01/05, 14:02:52\n",
      ">> Completed page scrapping at targeted url page 7 on 2024/01/05, 14:03:09\n",
      "Start page scrapping at targeted url page 8 on 2024/01/05, 14:03:09\n",
      ">> Completed page scrapping at targeted url page 8 on 2024/01/05, 14:03:28\n",
      "Start page scrapping at targeted url page 9 on 2024/01/05, 14:03:28\n",
      ">> Completed page scrapping at targeted url page 9 on 2024/01/05, 14:03:43\n",
      "Start page scrapping at targeted url page 10 on 2024/01/05, 14:03:43\n",
      ">> Completed page scrapping at targeted url page 10 on 2024/01/05, 14:04:00\n",
      "Web scrapping completed\n"
     ]
    }
   ],
   "source": [
    "jakartaTz = pytz.timezone('Asia/Jakarta') # simpan info zona waktu 'Asia/jakarta' ke variabel `jakartaTz`\n",
    "\n",
    "driver = webdriver.Chrome() # jalankan webdriver Chrome\n",
    "\n",
    "listNames = [] # List kosong untuk menampung daftar nama produk hasil scrapping\n",
    "listPrices = [] # List kosong untuk menampung daftar harga produk hasil scrapping\n",
    "listSellers = [] # List kosong untuk menampung daftar nama toko penjual produk hasil scrapping\n",
    "listLocations = [] # List kosong untuk menampung daftar lokasi toko penjual produk hasil scrapping\n",
    "listSolds = [] # List kosong untuk menampung daftar total produk yang sudah terjual dari masing-masing produk hasil scrapping\n",
    "listRates = [] # List kosong untuk menampung daftar penilaian pembeli hasil scrapping\n",
    "\n",
    "pagesToScrap = 10 # simpan info berapa banyak halaman yang akan di-scrap ke variabel `pageToScrap`\n",
    "\n",
    "# jalankan loop untuk setiap range dari halaman pertama hingga ke-sekian yang tersimpan di dalam variabel `pageToScrap`\n",
    "for pageNumber in range(1,pagesToScrap + 1):\n",
    "    timeInJakarta = datetime.now(jakartaTz) # simpan informasi waktu terkini untuk zona waktu Asia/Jakarta\n",
    "    \n",
    "    currentTime = timeInJakarta.strftime(\"%Y/%m/%d, %H:%M:%S\") # simpan informasi waktu terkini dalam format YYYY/mm/dd, HH:MM:SS\n",
    "    \n",
    "    print(f'Start page scrapping at targeted url page {pageNumber} on {currentTime}') # Keluarkan output keterangan waktu saat memulai scrapping halaman terkait\n",
    "    url = f'https://www.tokopedia.com/search?navsource=&page={pageNumber}&q=seblak&srp_component_id=02.01.00.00&srp_page_id=&srp_page_title=&st=' # simpan alamat web untuk halaman yang di-loop dengan variabel `pageNumber`\n",
    "\n",
    "    driver.get(url) # buka url dengan webbrowser\n",
    "    \n",
    "    # masuk ke algoritma untuk melakukan automasi scroll halaman dengan webdriver \n",
    "    screenHeight = driver.execute_script('return window.screen.height;') # simpan nilai tinggi jendela browser sebagai basis untuk melakukan scroll dengan jumlah interval yang disimpan pada variabel `interval` \n",
    "    interval = 1 # jumlah interval untuk melakukan beberapa kali scroll\n",
    "    \n",
    "    # jalankan loop ketika kondisi di dalam ini `True` untuk melakukan tindakan scroll halaman di webdriver\n",
    "    while True:\n",
    "        driver.execute_script(f'window.scrollTo(0,{screenHeight * interval});') # jalankan script untuk melakukan scroll ke posisi berdasarkan info tinggi jendela browser dikalikan dengan interval saat ini \n",
    "        interval += 1 # tambahkan angka satu secara langsung ke variabel interval\n",
    "        time.sleep(2) # lakukan jeda dua detik sebelum melanjutkan ke line script berikutnya\n",
    "        scrollHeight = driver.execute_script('return document.body.scrollHeight;') # simpan info nilai posisi scroll saat ini di halaman web\n",
    "        \n",
    "        # lakukan validasi bila nilai dari tinggi jendela webbrowser yang dikalikan dengan interval ke-n saat ini sudah lebih besar nilainya dibanding nilai panjang halaman web yang sedang dibuka, stop loop. Bila tidak memenuhi, lanjutkan loop\n",
    "        if (screenHeight * interval) > scrollHeight: \n",
    "            break\n",
    "        else:\n",
    "            pass       \n",
    "        \n",
    "    # setelah selesai memroses halaman secara menyeluruh dengan scroll, simpan page source halaman web\n",
    "    html = driver.page_source\n",
    "    soup = BeautifulSoup(html, 'html.parser')\n",
    "    \n",
    "    # baca secara spesifik elemen yang memuat grid berisi panel-panel barang yang dijual selain barang-barang promosi\n",
    "    container = soup.find('div', {'data-testid':'divSRPContentProducts',\n",
    "                                'data-ssr':'contentProductsSRPSSR'})\n",
    "    \n",
    "    # baca seluruh subkotak yang berisi pengelompokkan beberapa produk yang termuat dalam `container`, simpan ke dalam list\n",
    "    cards = container.find_all('div', {'class':'css-jza1fo'})\n",
    "    \n",
    "    lenCards = list(range(len(cards))) # simpan berapa banyak kelompok/subkotak dalam `container`\n",
    "    \n",
    "    # jalankan loop untuk membaca produk secara satu persatu pada masing-masing subkotak berdasarkan range banyaknya subkotak\n",
    "    for indexC in lenCards:\n",
    "        product = cards[indexC].find_all('div', {'class':'css-llwpbs'}) # simpan ke dalam list elemen untuk produk-produk satu persatu\n",
    "        \n",
    "        lenProduct = list(range(len(product))) # simpan banyaknya item dalam list `product`\n",
    "        \n",
    "        # jalankan loop untuk membaca beberapa elemen pada masing-masing produk\n",
    "        for indexP in lenProduct:\n",
    "            \n",
    "            # simpan isi nama produk dari teks dalam elemen <div class=\"prd_link-product-name css-3um8ox\" data-testid=\"spnSRPProdName\">\n",
    "            try:\n",
    "                name = product[indexP].find('div', {'class':\"prd_link-product-name css-3um8ox\",\n",
    "                                    'data-testid':\"spnSRPProdName\"}).get_text()\n",
    "                listNames.append(name)\n",
    "            except: # jalankan script bila tidak ada isi teks\n",
    "                listNames.append(None)\n",
    "            \n",
    "            # simpan isi harga produk dari teks dalam elemen <div class=\"prd_link-product-price css-h66vau\" data-testid=\"spnSRPProdPrice\">\n",
    "            try:\n",
    "                price = product[indexP].find('div', {'class':'prd_link-product-price css-h66vau',\n",
    "                                                    'data-testid':'spnSRPProdPrice'}).get_text()\n",
    "                listPrices.append(price)\n",
    "            except: # jalankan script bila tidak ada isi teks\n",
    "                listPrices.append(None)\n",
    "                \n",
    "            # simpan isi nama penjual dari teks dalam elemen <span class='prd_link-shop-name css-1kdc32b flip' data-testid=''>\n",
    "            try:\n",
    "                seller = product[indexP].find('span', {'class':'prd_link-shop-name css-1kdc32b flip',\n",
    "                                                    'data-testid':''}).get_text()\n",
    "                listSellers.append(seller)\n",
    "            except: # jalankan script bila tidak ada isi teks\n",
    "                listSellers.append(None)\n",
    "            \n",
    "            # simpan isi kota toko dari teks dalam elemen <span class=\"prd_link-shop-loc css-1kdc32b flip\" data-testid=\"spnSRPProdTabShopLoc\">\n",
    "            try:\n",
    "                location = product[indexP].find('span', {'class':'prd_link-shop-loc css-1kdc32b flip',\n",
    "                                                        'data-testid':'spnSRPProdTabShopLoc'}).get_text()\n",
    "                listLocations.append(location)\n",
    "            except: # jalankan script bila tidak ada isi teks\n",
    "                listLocations.append(None)\n",
    "                \n",
    "            # simpan isi banyaknya terjual dari teks dalam elemen <span class=\"prd_label-integrity css-1sgek4h\" data-testid=\"\">\n",
    "            try:\n",
    "                sold = product[indexP].find('span', {'class':'prd_label-integrity css-1sgek4h',\n",
    "                                                        'data-testid':''}).get_text()\n",
    "                listSolds.append(sold)\n",
    "            except: # jalankan script bila tidak ada isi teks\n",
    "                listSolds.append(None)\n",
    "                \n",
    "            # simpan isi rating produk dari teks dalam elemen <span class=\"prd_rating-average-text css-t70v7i\" data-testid=\"\">\n",
    "            try:\n",
    "                rate = product[indexP].find('span', {'class':'prd_rating-average-text css-t70v7i',\n",
    "                                                        'data-testid':''}).get_text()\n",
    "                listRates.append(rate)\n",
    "            except: # jalankan script bila tidak ada isi teks\n",
    "                listRates.append(None)\n",
    "    \n",
    "    timeInJakarta = datetime.now(jakartaTz) # simpan informasi waktu terkini untuk zona waktu Asia/Jakarta\n",
    "    currentTime = timeInJakarta.strftime(\"%Y/%m/%d, %H:%M:%S\") # simpan informasi waktu terkini dalam format YYYY/mm/dd, HH:MM:SS\n",
    "    print(f'>> Completed page scrapping at targeted url page {pageNumber} on {currentTime}') # tampilkan pesan sukses melakukan webscraping untuk halaman terkait disertai dengan waktu final eksekusinya\n",
    "\n",
    "print('Web scrapping completed') # tampilkan output pesan sukses dalam melakukan web scrapping"
   ]
  },
  {
   "cell_type": "markdown",
   "metadata": {},
   "source": [
    "## B2. Simpan hasil scrape  \n",
    "  \n",
    "Setelah melakukan _web scrapping_, serangkaian list-list yang telah tersimpan perlu disusun menjadi sebuah tabel dengan judul kolom yang berisi data terkait `nama_produk`, `harga`, `toko`, `lokasi_toko`, `terjual`, dan `nilai_produk`. Simpan hasil tabel ke dalam variabel `products_df`, lalu simpan tabel tersebut ke dalam file CSV bernama `products.csv`"
   ]
  },
  {
   "cell_type": "code",
   "execution_count": 47,
   "metadata": {},
   "outputs": [],
   "source": [
    "data = {'nama_produk':listNames, # buat kolom `nama_produk` yang diisi dengan data dari `listNames`\n",
    "        'harga':listPrices, # buat kolom `harga` yang diisi dengan data dari `listPrices`\n",
    "        'toko':listSellers, # buat kolom `toko` yang diisi dengan data dari `listSellers`\n",
    "        'lokasi_toko':listLocations, # buat kolom `lokasi_toko` yang diisi dengan data dari `listLocations`\n",
    "        'terjual':listSolds, # buat kolom `terjual` yang diisi dengan data dari `listSolds`\n",
    "        'nilai_produk':listRates} # buat kolom `nilai_produk` yang diisi dengan data dari `listRates`\n",
    "\n",
    "products_df = pd.DataFrame(data=data)"
   ]
  },
  {
   "cell_type": "code",
   "execution_count": 48,
   "metadata": {},
   "outputs": [],
   "source": [
    "# simpan hasil scraping ke dalam file CSV \n",
    "\n",
    "products_df.to_csv('products.csv', index=False)"
   ]
  },
  {
   "cell_type": "markdown",
   "metadata": {},
   "source": [
    "# C. Tahap 2: Persiapan Data"
   ]
  },
  {
   "cell_type": "markdown",
   "metadata": {},
   "source": [
    "## C1. Cek isi beberapa record data dalam tabel"
   ]
  },
  {
   "cell_type": "code",
   "execution_count": 49,
   "metadata": {},
   "outputs": [
    {
     "data": {
      "text/html": [
       "<div>\n",
       "<style scoped>\n",
       "    .dataframe tbody tr th:only-of-type {\n",
       "        vertical-align: middle;\n",
       "    }\n",
       "\n",
       "    .dataframe tbody tr th {\n",
       "        vertical-align: top;\n",
       "    }\n",
       "\n",
       "    .dataframe thead th {\n",
       "        text-align: right;\n",
       "    }\n",
       "</style>\n",
       "<table border=\"1\" class=\"dataframe\">\n",
       "  <thead>\n",
       "    <tr style=\"text-align: right;\">\n",
       "      <th></th>\n",
       "      <th>nama_produk</th>\n",
       "      <th>harga</th>\n",
       "      <th>toko</th>\n",
       "      <th>lokasi_toko</th>\n",
       "      <th>terjual</th>\n",
       "      <th>nilai_produk</th>\n",
       "    </tr>\n",
       "  </thead>\n",
       "  <tbody>\n",
       "    <tr>\n",
       "      <th>0</th>\n",
       "      <td>Gelifood Seblak Instan Kerupuk Mawar Bumbu Ken...</td>\n",
       "      <td>Rp13.000</td>\n",
       "      <td>Lidigeli</td>\n",
       "      <td>Kab. Garut</td>\n",
       "      <td>250+ terjual</td>\n",
       "      <td>4.8</td>\n",
       "    </tr>\n",
       "    <tr>\n",
       "      <th>1</th>\n",
       "      <td>Kylafood Seblak Original Play</td>\n",
       "      <td>Rp15.050</td>\n",
       "      <td>kylafood</td>\n",
       "      <td>Bandung</td>\n",
       "      <td>1rb+ terjual</td>\n",
       "      <td>5.0</td>\n",
       "    </tr>\n",
       "    <tr>\n",
       "      <th>2</th>\n",
       "      <td>Seblak Rafael, Seblak Coet Instan Halal</td>\n",
       "      <td>Rp25.000</td>\n",
       "      <td>Brother Meat Shop</td>\n",
       "      <td>Depok</td>\n",
       "      <td>100+ terjual</td>\n",
       "      <td>4.9</td>\n",
       "    </tr>\n",
       "    <tr>\n",
       "      <th>3</th>\n",
       "      <td>Seblak Instan Ceu Nthien Khas Bandung Rasana N...</td>\n",
       "      <td>Rp17.000</td>\n",
       "      <td>Central Seblak Nusantara</td>\n",
       "      <td>Tangerang Selatan</td>\n",
       "      <td>2rb+ terjual</td>\n",
       "      <td>4.9</td>\n",
       "    </tr>\n",
       "    <tr>\n",
       "      <th>4</th>\n",
       "      <td>KERUPUK SEBLAK MENTAH ANEKA WARNA</td>\n",
       "      <td>Rp11.500</td>\n",
       "      <td>jajanangarut19</td>\n",
       "      <td>Jakarta Selatan</td>\n",
       "      <td>250+ terjual</td>\n",
       "      <td>4.9</td>\n",
       "    </tr>\n",
       "    <tr>\n",
       "      <th>5</th>\n",
       "      <td>SEBLAK INSTANT TERMURAH</td>\n",
       "      <td>Rp3.999</td>\n",
       "      <td>Pusat Cuankie &amp; Cemilan Frozen</td>\n",
       "      <td>Jakarta Timur</td>\n",
       "      <td>10rb+ terjual</td>\n",
       "      <td>4.8</td>\n",
       "    </tr>\n",
       "    <tr>\n",
       "      <th>6</th>\n",
       "      <td>Seblak Rafael, Seblak Coet Instan Halal</td>\n",
       "      <td>Rp25.000</td>\n",
       "      <td>Brother Meat Shop</td>\n",
       "      <td>Depok</td>\n",
       "      <td>100+ terjual</td>\n",
       "      <td>4.9</td>\n",
       "    </tr>\n",
       "    <tr>\n",
       "      <th>7</th>\n",
       "      <td>Seblak Instan Pedas Home Made</td>\n",
       "      <td>Rp3.500</td>\n",
       "      <td>the Dhecip</td>\n",
       "      <td>Tangerang Selatan</td>\n",
       "      <td>2rb+ terjual</td>\n",
       "      <td>4.8</td>\n",
       "    </tr>\n",
       "    <tr>\n",
       "      <th>8</th>\n",
       "      <td>Seblak pedas kerupuk pedas kiloan 1 kg</td>\n",
       "      <td>Rp35.000</td>\n",
       "      <td>RIKI STORE 97</td>\n",
       "      <td>Kab. Bogor</td>\n",
       "      <td>100+ terjual</td>\n",
       "      <td>4.8</td>\n",
       "    </tr>\n",
       "    <tr>\n",
       "      <th>9</th>\n",
       "      <td>seblak instant sajodo snak</td>\n",
       "      <td>Rp19.000</td>\n",
       "      <td>hikmah berkah jaya</td>\n",
       "      <td>Jakarta Barat</td>\n",
       "      <td>750+ terjual</td>\n",
       "      <td>4.8</td>\n",
       "    </tr>\n",
       "  </tbody>\n",
       "</table>\n",
       "</div>"
      ],
      "text/plain": [
       "                                         nama_produk     harga  \\\n",
       "0  Gelifood Seblak Instan Kerupuk Mawar Bumbu Ken...  Rp13.000   \n",
       "1                      Kylafood Seblak Original Play  Rp15.050   \n",
       "2            Seblak Rafael, Seblak Coet Instan Halal  Rp25.000   \n",
       "3  Seblak Instan Ceu Nthien Khas Bandung Rasana N...  Rp17.000   \n",
       "4                  KERUPUK SEBLAK MENTAH ANEKA WARNA  Rp11.500   \n",
       "5                            SEBLAK INSTANT TERMURAH   Rp3.999   \n",
       "6            Seblak Rafael, Seblak Coet Instan Halal  Rp25.000   \n",
       "7                      Seblak Instan Pedas Home Made   Rp3.500   \n",
       "8             Seblak pedas kerupuk pedas kiloan 1 kg  Rp35.000   \n",
       "9                         seblak instant sajodo snak  Rp19.000   \n",
       "\n",
       "                             toko        lokasi_toko        terjual  \\\n",
       "0                        Lidigeli         Kab. Garut   250+ terjual   \n",
       "1                        kylafood            Bandung   1rb+ terjual   \n",
       "2               Brother Meat Shop              Depok   100+ terjual   \n",
       "3        Central Seblak Nusantara  Tangerang Selatan   2rb+ terjual   \n",
       "4                  jajanangarut19    Jakarta Selatan   250+ terjual   \n",
       "5  Pusat Cuankie & Cemilan Frozen      Jakarta Timur  10rb+ terjual   \n",
       "6               Brother Meat Shop              Depok   100+ terjual   \n",
       "7                      the Dhecip  Tangerang Selatan   2rb+ terjual   \n",
       "8                   RIKI STORE 97         Kab. Bogor   100+ terjual   \n",
       "9              hikmah berkah jaya      Jakarta Barat   750+ terjual   \n",
       "\n",
       "  nilai_produk  \n",
       "0          4.8  \n",
       "1          5.0  \n",
       "2          4.9  \n",
       "3          4.9  \n",
       "4          4.9  \n",
       "5          4.8  \n",
       "6          4.9  \n",
       "7          4.8  \n",
       "8          4.8  \n",
       "9          4.8  "
      ]
     },
     "execution_count": 49,
     "metadata": {},
     "output_type": "execute_result"
    }
   ],
   "source": [
    "products_df.head(10)"
   ]
  },
  {
   "cell_type": "markdown",
   "metadata": {},
   "source": [
    "Deskripsi: Output kode (tabel) tersebut memuat 10 record data seputar daftar nama-nama produk seblak yang dijual pada 10 halaman pertama pencarian di Tokopedia. Beberapa hal yang perlu dilakukan berdasarkan pengamatan tabel saat ini ialah:  \n",
    "- Pembersihan kolom `harga` dari string \"Rp\" dan \".\"\n",
    "- Pembersihan kolom `terjual` dari string \"rb\", \"+\", dan \"terjual\"\n",
    "- Pada kolom `terjual`, string \"rb\" perlu diubah menjadi \"000\" agar isian ribuan bisa dikonversi langsung ke dalam bentuk integer\n",
    "- Nilai null/None perlu dibersihkan"
   ]
  },
  {
   "cell_type": "markdown",
   "metadata": {},
   "source": [
    "## C2. Cek banyaknya isian pada semua kolom"
   ]
  },
  {
   "cell_type": "code",
   "execution_count": 54,
   "metadata": {},
   "outputs": [],
   "source": [
    "# Baca tabel melalui csv\n",
    "\n",
    "products_df = pd.read_csv('products.csv')"
   ]
  },
  {
   "cell_type": "code",
   "execution_count": 55,
   "metadata": {},
   "outputs": [
    {
     "name": "stdout",
     "output_type": "stream",
     "text": [
      "Jumlah data pada kolom 'nama_produk': 821 data.\n",
      "Jumlah data pada kolom 'harga': 821 data.\n",
      "Jumlah data pada kolom 'toko': 821 data.\n",
      "Jumlah data pada kolom 'lokasi_toko': 821 data.\n",
      "Jumlah data pada kolom 'terjual': 821 data.\n",
      "Jumlah data pada kolom 'nilai_produk': 821 data.\n"
     ]
    }
   ],
   "source": [
    "columns = list(products_df.columns) # buat daftar judul kolom\n",
    "\n",
    "# jalankan loop untuk print jumlah isi data masing-masing kolom yang dilist secara iteratif\n",
    "for column in columns:\n",
    "    print(f\"Jumlah data pada kolom '{column}': {len(products_df[column])} data.\")"
   ]
  },
  {
   "cell_type": "markdown",
   "metadata": {},
   "source": [
    "Deskripsi: Record pada tabel `products_df` memiliki entry yang seimbang, yakni 821 data di seluruh kolom."
   ]
  },
  {
   "cell_type": "markdown",
   "metadata": {},
   "source": [
    "## C3. Cek tipe data masing-masing kolom"
   ]
  },
  {
   "cell_type": "code",
   "execution_count": 56,
   "metadata": {},
   "outputs": [
    {
     "name": "stdout",
     "output_type": "stream",
     "text": [
      "<class 'pandas.core.frame.DataFrame'>\n",
      "RangeIndex: 821 entries, 0 to 820\n",
      "Data columns (total 6 columns):\n",
      " #   Column        Non-Null Count  Dtype  \n",
      "---  ------        --------------  -----  \n",
      " 0   nama_produk   821 non-null    object \n",
      " 1   harga         821 non-null    object \n",
      " 2   toko          821 non-null    object \n",
      " 3   lokasi_toko   821 non-null    object \n",
      " 4   terjual       790 non-null    object \n",
      " 5   nilai_produk  765 non-null    float64\n",
      "dtypes: float64(1), object(5)\n",
      "memory usage: 38.6+ KB\n"
     ]
    }
   ],
   "source": [
    "products_df.info() # cek status value data masing-masing kolom beserta tipe datanya"
   ]
  },
  {
   "cell_type": "markdown",
   "metadata": {},
   "source": [
    "Deskripsi:  \n",
    "- Diketahui tipe data seluruh kolom masih berupa string.\n",
    "- Data dalam kolom `price` dan `sold` perlu dikonversi ke dalam bentuk integer.\n",
    "- Data dalam kolom `rating` perlu dikonversi ke dalam bentuk float."
   ]
  },
  {
   "cell_type": "markdown",
   "metadata": {},
   "source": [
    "## C4. Cek banyaknya nilai null di setiap kolom"
   ]
  },
  {
   "cell_type": "code",
   "execution_count": 57,
   "metadata": {},
   "outputs": [
    {
     "name": "stdout",
     "output_type": "stream",
     "text": [
      "Banyaknya nilai null di kolom 'nama_produk': 0 data.\n",
      "Banyaknya nilai null di kolom 'harga': 0 data.\n",
      "Banyaknya nilai null di kolom 'toko': 0 data.\n",
      "Banyaknya nilai null di kolom 'lokasi_toko': 0 data.\n",
      "Banyaknya nilai null di kolom 'terjual': 31 data.\n",
      "Banyaknya nilai null di kolom 'nilai_produk': 56 data.\n"
     ]
    }
   ],
   "source": [
    "# jalankan loop untuk menampilkan jumlah nilai null masing-masing kolom\n",
    "for column in columns:\n",
    "    print(f\"Banyaknya nilai null di kolom '{column}': {products_df[column].isnull().sum()} data.\")"
   ]
  },
  {
   "cell_type": "markdown",
   "metadata": {},
   "source": [
    "Deskripsi: data pada kolom-kolom `nama_produk`, `harga`, `toko`, dan `lokasi_toko` merupakan seluruhnya data yang valid. Sementara itu, ada sebanyak 31 data di dalam kolom `terjual` dan 56 data di dalam kolom `rating`.  \n",
    "  \n",
    "Adanya record produk yang memiliki data kolom `terjual` yang null mengindikasikan bahwa barang yang bersangkutan (dalam record tersebut) belum pernah terjual atau merupakan produk baru yang belum dibeli pengguna Tokopedia.  \n",
    "  \n",
    "Begitu pula dengan produk-produk yang memiliki nilai null dalam kolom `nilai_produk`, produk tersebut bisa jadi merupakan produk baru yang belum sempat dibeli per dilakukannya _web scrapping_; bisa jadi pernah dibeli tetapi pembeli tidak ada yang memberikan _rating_/ulasan produk."
   ]
  },
  {
   "cell_type": "markdown",
   "metadata": {},
   "source": [
    "## C5. Hapus record dengan nilai null"
   ]
  },
  {
   "cell_type": "code",
   "execution_count": 75,
   "metadata": {},
   "outputs": [
    {
     "name": "stdout",
     "output_type": "stream",
     "text": [
      "<class 'pandas.core.frame.DataFrame'>\n",
      "RangeIndex: 765 entries, 0 to 764\n",
      "Data columns (total 6 columns):\n",
      " #   Column        Non-Null Count  Dtype  \n",
      "---  ------        --------------  -----  \n",
      " 0   nama_produk   765 non-null    object \n",
      " 1   harga         765 non-null    object \n",
      " 2   toko          765 non-null    object \n",
      " 3   lokasi_toko   765 non-null    object \n",
      " 4   terjual       765 non-null    object \n",
      " 5   nilai_produk  765 non-null    float64\n",
      "dtypes: float64(1), object(5)\n",
      "memory usage: 36.0+ KB\n"
     ]
    }
   ],
   "source": [
    "productsDropNull_df = products_df.copy() # salin dataframe untuk menyimpan proses penghapusan record dengan nilai null\n",
    "\n",
    "productsDropNull_df = productsDropNull_df.dropna(axis=0).reset_index(drop=True) # hapus record data yang memiliki data null\n",
    "\n",
    "productsDropNull_df.info() # cek isian data (jumlah non-null) dan tipe data"
   ]
  },
  {
   "cell_type": "markdown",
   "metadata": {},
   "source": [
    "Deskripsi: Setelah dilakukan pembersihan data null di dalam dataframe, jumlah record data menjadi 765 dari yang semula 821. Hal ini menandakan ada sebanyak 56 data null atau sekitar 6,82% dari keseluruhan data yang tidak dapat diproses lebih lanjut."
   ]
  },
  {
   "cell_type": "markdown",
   "metadata": {},
   "source": [
    "## C6. Cek dan hapus data duplikat"
   ]
  },
  {
   "cell_type": "code",
   "execution_count": 65,
   "metadata": {},
   "outputs": [
    {
     "name": "stdout",
     "output_type": "stream",
     "text": [
      "Total record data duplikat: 104 data\n"
     ]
    }
   ],
   "source": [
    "print(f'Total record data duplikat: {productsDropNull_df.duplicated().sum()} data') # Tampilkan total data yang terduplikasi di dalam dataframe `productsDropNull_df`"
   ]
  },
  {
   "cell_type": "markdown",
   "metadata": {},
   "source": [
    "Deskripsi: Tabel dalam variabel `productsDropNull` masih memiliki sebanyak 104 data duplikat. Data ini perlu dibersihkan sebelum bisa masuk ke tahap pembersihan data selanjutnya."
   ]
  },
  {
   "cell_type": "code",
   "execution_count": 77,
   "metadata": {},
   "outputs": [
    {
     "name": "stdout",
     "output_type": "stream",
     "text": [
      "<class 'pandas.core.frame.DataFrame'>\n",
      "RangeIndex: 661 entries, 0 to 660\n",
      "Data columns (total 6 columns):\n",
      " #   Column        Non-Null Count  Dtype  \n",
      "---  ------        --------------  -----  \n",
      " 0   nama_produk   661 non-null    object \n",
      " 1   harga         661 non-null    object \n",
      " 2   toko          661 non-null    object \n",
      " 3   lokasi_toko   661 non-null    object \n",
      " 4   terjual       661 non-null    object \n",
      " 5   nilai_produk  661 non-null    float64\n",
      "dtypes: float64(1), object(5)\n",
      "memory usage: 31.1+ KB\n"
     ]
    }
   ],
   "source": [
    "productsDropDuplicates_df = productsDropNull_df.copy() # salin dataframe untuk menyimpan tabel yang sudah bersih dari duplikasi\n",
    "\n",
    "productsDropDuplicates_df = productsDropDuplicates_df.drop_duplicates().reset_index(drop=True) # hapus duplikat dengan mereset angka indeks tabel\n",
    "\n",
    "productsDropDuplicates_df.info() # tampilkan deskripsi tabel"
   ]
  },
  {
   "cell_type": "markdown",
   "metadata": {},
   "source": [
    "Deskripsi: Sebanyak 104 data duplikat telah dibersihkan dari tabel `productsDropDuplicates_df`. Jumlah record data/entry pada tabel tersisa 661 dari hasil _scrapping_ di sebanyak 10 halaman."
   ]
  },
  {
   "cell_type": "markdown",
   "metadata": {},
   "source": [
    "## C7. Mengubah tipe data yang sesuai untuk masing-masing kolom"
   ]
  },
  {
   "cell_type": "code",
   "execution_count": 173,
   "metadata": {},
   "outputs": [
    {
     "data": {
      "text/html": [
       "<div>\n",
       "<style scoped>\n",
       "    .dataframe tbody tr th:only-of-type {\n",
       "        vertical-align: middle;\n",
       "    }\n",
       "\n",
       "    .dataframe tbody tr th {\n",
       "        vertical-align: top;\n",
       "    }\n",
       "\n",
       "    .dataframe thead th {\n",
       "        text-align: right;\n",
       "    }\n",
       "</style>\n",
       "<table border=\"1\" class=\"dataframe\">\n",
       "  <thead>\n",
       "    <tr style=\"text-align: right;\">\n",
       "      <th></th>\n",
       "      <th>nama_produk</th>\n",
       "      <th>harga</th>\n",
       "      <th>toko</th>\n",
       "      <th>lokasi_toko</th>\n",
       "      <th>terjual</th>\n",
       "      <th>nilai_produk</th>\n",
       "    </tr>\n",
       "  </thead>\n",
       "  <tbody>\n",
       "    <tr>\n",
       "      <th>0</th>\n",
       "      <td>Gelifood Seblak Instan Kerupuk Mawar Bumbu Ken...</td>\n",
       "      <td>13000</td>\n",
       "      <td>Lidigeli</td>\n",
       "      <td>Kab. Garut</td>\n",
       "      <td>250</td>\n",
       "      <td>4.8</td>\n",
       "    </tr>\n",
       "    <tr>\n",
       "      <th>1</th>\n",
       "      <td>Kylafood Seblak Original Play</td>\n",
       "      <td>15050</td>\n",
       "      <td>kylafood</td>\n",
       "      <td>Bandung</td>\n",
       "      <td>1000</td>\n",
       "      <td>5.0</td>\n",
       "    </tr>\n",
       "    <tr>\n",
       "      <th>2</th>\n",
       "      <td>Seblak Rafael, Seblak Coet Instan Halal</td>\n",
       "      <td>25000</td>\n",
       "      <td>Brother Meat Shop</td>\n",
       "      <td>Depok</td>\n",
       "      <td>100</td>\n",
       "      <td>4.9</td>\n",
       "    </tr>\n",
       "    <tr>\n",
       "      <th>3</th>\n",
       "      <td>Seblak Instan Ceu Nthien Khas Bandung Rasana N...</td>\n",
       "      <td>17000</td>\n",
       "      <td>Central Seblak Nusantara</td>\n",
       "      <td>Tangerang Selatan</td>\n",
       "      <td>2000</td>\n",
       "      <td>4.9</td>\n",
       "    </tr>\n",
       "    <tr>\n",
       "      <th>4</th>\n",
       "      <td>KERUPUK SEBLAK MENTAH ANEKA WARNA</td>\n",
       "      <td>11500</td>\n",
       "      <td>jajanangarut19</td>\n",
       "      <td>Jakarta Selatan</td>\n",
       "      <td>250</td>\n",
       "      <td>4.9</td>\n",
       "    </tr>\n",
       "    <tr>\n",
       "      <th>5</th>\n",
       "      <td>SEBLAK INSTANT TERMURAH</td>\n",
       "      <td>3999</td>\n",
       "      <td>Pusat Cuankie &amp; Cemilan Frozen</td>\n",
       "      <td>Jakarta Timur</td>\n",
       "      <td>10000</td>\n",
       "      <td>4.8</td>\n",
       "    </tr>\n",
       "    <tr>\n",
       "      <th>6</th>\n",
       "      <td>Seblak Instan Pedas Home Made</td>\n",
       "      <td>3500</td>\n",
       "      <td>the Dhecip</td>\n",
       "      <td>Tangerang Selatan</td>\n",
       "      <td>2000</td>\n",
       "      <td>4.8</td>\n",
       "    </tr>\n",
       "    <tr>\n",
       "      <th>7</th>\n",
       "      <td>Seblak pedas kerupuk pedas kiloan 1 kg</td>\n",
       "      <td>35000</td>\n",
       "      <td>RIKI STORE 97</td>\n",
       "      <td>Kab. Bogor</td>\n",
       "      <td>100</td>\n",
       "      <td>4.8</td>\n",
       "    </tr>\n",
       "    <tr>\n",
       "      <th>8</th>\n",
       "      <td>seblak instant sajodo snak</td>\n",
       "      <td>19000</td>\n",
       "      <td>hikmah berkah jaya</td>\n",
       "      <td>Jakarta Barat</td>\n",
       "      <td>750</td>\n",
       "      <td>4.8</td>\n",
       "    </tr>\n",
       "    <tr>\n",
       "      <th>9</th>\n",
       "      <td>Kylafood Seblak Cup Instan, Halal</td>\n",
       "      <td>11500</td>\n",
       "      <td>Brother Meat Shop</td>\n",
       "      <td>Depok</td>\n",
       "      <td>60</td>\n",
       "      <td>5.0</td>\n",
       "    </tr>\n",
       "  </tbody>\n",
       "</table>\n",
       "</div>"
      ],
      "text/plain": [
       "                                         nama_produk  harga  \\\n",
       "0  Gelifood Seblak Instan Kerupuk Mawar Bumbu Ken...  13000   \n",
       "1                      Kylafood Seblak Original Play  15050   \n",
       "2            Seblak Rafael, Seblak Coet Instan Halal  25000   \n",
       "3  Seblak Instan Ceu Nthien Khas Bandung Rasana N...  17000   \n",
       "4                  KERUPUK SEBLAK MENTAH ANEKA WARNA  11500   \n",
       "5                            SEBLAK INSTANT TERMURAH   3999   \n",
       "6                      Seblak Instan Pedas Home Made   3500   \n",
       "7             Seblak pedas kerupuk pedas kiloan 1 kg  35000   \n",
       "8                         seblak instant sajodo snak  19000   \n",
       "9                  Kylafood Seblak Cup Instan, Halal  11500   \n",
       "\n",
       "                             toko        lokasi_toko  terjual  nilai_produk  \n",
       "0                        Lidigeli         Kab. Garut      250           4.8  \n",
       "1                        kylafood            Bandung     1000           5.0  \n",
       "2               Brother Meat Shop              Depok      100           4.9  \n",
       "3        Central Seblak Nusantara  Tangerang Selatan     2000           4.9  \n",
       "4                  jajanangarut19    Jakarta Selatan      250           4.9  \n",
       "5  Pusat Cuankie & Cemilan Frozen      Jakarta Timur    10000           4.8  \n",
       "6                      the Dhecip  Tangerang Selatan     2000           4.8  \n",
       "7                   RIKI STORE 97         Kab. Bogor      100           4.8  \n",
       "8              hikmah berkah jaya      Jakarta Barat      750           4.8  \n",
       "9               Brother Meat Shop              Depok       60           5.0  "
      ]
     },
     "execution_count": 173,
     "metadata": {},
     "output_type": "execute_result"
    }
   ],
   "source": [
    "productsClean_df = productsDropDuplicates_df.copy() # salin dataframe `productsDropDuplicates_df` untuk menyimpan tabel yang sudah dibersihkan entry dan disesuaikan tipe datanya\n",
    "\n",
    "productsClean_df['harga'] = productsClean_df['harga'].str.replace('Rp', '').str.replace('.', '').astype('int64') # bersihkan entry data kolom `harga` dari string \"Rp\" dan \".\" agar bisa langsung dikonversikan ke tipe data integer\n",
    "\n",
    "productsClean_df['terjual'] = productsClean_df['terjual'].str.replace('+', '').str.replace('rb', '000').str.replace('.', '').str.replace(' terjual', '').astype('int64') # bersihkan entry data kolom `terjual` dari string \"+\", \".\", dan \" terjual\"; serta ubah string \"rb\" menjadi \"000\" agar bisa langsung dikonversikan ke tipe data integer\n",
    "\n",
    "productsClean_df['nilai_produk'] = productsClean_df['nilai_produk'].astype('float64')  # ubah langsung tipe data kolom `nilai_produk` menjadi float number\n",
    "\n",
    "productsClean_df.head(10) # tampilkan 10 data tabel pertama"
   ]
  },
  {
   "cell_type": "code",
   "execution_count": 90,
   "metadata": {},
   "outputs": [
    {
     "name": "stdout",
     "output_type": "stream",
     "text": [
      "<class 'pandas.core.frame.DataFrame'>\n",
      "RangeIndex: 661 entries, 0 to 660\n",
      "Data columns (total 6 columns):\n",
      " #   Column        Non-Null Count  Dtype  \n",
      "---  ------        --------------  -----  \n",
      " 0   nama_produk   661 non-null    object \n",
      " 1   harga         661 non-null    int64  \n",
      " 2   toko          661 non-null    object \n",
      " 3   lokasi_toko   661 non-null    object \n",
      " 4   terjual       661 non-null    int64  \n",
      " 5   nilai_produk  661 non-null    float64\n",
      "dtypes: float64(1), int64(2), object(3)\n",
      "memory usage: 31.1+ KB\n"
     ]
    }
   ],
   "source": [
    "productsClean_df.info() # cek deskripsi (tipe data) tabel"
   ]
  },
  {
   "cell_type": "markdown",
   "metadata": {},
   "source": [
    "Deskripsi: Setelah melakukan pembersihan tipe data kolom dari berbagai macam string yang tidak perlu, didapati bahwa kolom-kolom tersebut dapat dikonversi secara langsung menjadi tipe data pasti, antara lain:  \n",
    "- `nama_produk`: teks (string/object)\n",
    "- `harga`: angka (integer)\n",
    "- `toko`: teks (string/object)\n",
    "- `lokasi_toko`: teks (string/object)\n",
    "- `terjual`: angka (integer)\n",
    "- `nilai_produk`: desimal (float)  \n",
    "  \n",
    "Sebanyak 1 kolom memiliki tipe data float, 2 kolom bertipe data integer, dan 3 kolom lainnya merupakan kolom bertipe data string/object."
   ]
  },
  {
   "cell_type": "markdown",
   "metadata": {},
   "source": [
    "## C8. Tambahkan kolom baru berisi keterangan lokasi toko di dalam/luar Jabodetabek"
   ]
  },
  {
   "cell_type": "code",
   "execution_count": 178,
   "metadata": {},
   "outputs": [
    {
     "data": {
      "text/html": [
       "<div>\n",
       "<style scoped>\n",
       "    .dataframe tbody tr th:only-of-type {\n",
       "        vertical-align: middle;\n",
       "    }\n",
       "\n",
       "    .dataframe tbody tr th {\n",
       "        vertical-align: top;\n",
       "    }\n",
       "\n",
       "    .dataframe thead th {\n",
       "        text-align: right;\n",
       "    }\n",
       "</style>\n",
       "<table border=\"1\" class=\"dataframe\">\n",
       "  <thead>\n",
       "    <tr style=\"text-align: right;\">\n",
       "      <th></th>\n",
       "      <th>nama_produk</th>\n",
       "      <th>harga</th>\n",
       "      <th>toko</th>\n",
       "      <th>lokasi_toko</th>\n",
       "      <th>terjual</th>\n",
       "      <th>nilai_produk</th>\n",
       "      <th>area</th>\n",
       "    </tr>\n",
       "  </thead>\n",
       "  <tbody>\n",
       "    <tr>\n",
       "      <th>0</th>\n",
       "      <td>Gelifood Seblak Instan Kerupuk Mawar Bumbu Ken...</td>\n",
       "      <td>13000</td>\n",
       "      <td>Lidigeli</td>\n",
       "      <td>Kab. Garut</td>\n",
       "      <td>250</td>\n",
       "      <td>4.8</td>\n",
       "      <td>Luar Jabodetabek</td>\n",
       "    </tr>\n",
       "    <tr>\n",
       "      <th>1</th>\n",
       "      <td>Kylafood Seblak Original Play</td>\n",
       "      <td>15050</td>\n",
       "      <td>kylafood</td>\n",
       "      <td>Bandung</td>\n",
       "      <td>1000</td>\n",
       "      <td>5.0</td>\n",
       "      <td>Luar Jabodetabek</td>\n",
       "    </tr>\n",
       "    <tr>\n",
       "      <th>2</th>\n",
       "      <td>Seblak Rafael, Seblak Coet Instan Halal</td>\n",
       "      <td>25000</td>\n",
       "      <td>Brother Meat Shop</td>\n",
       "      <td>Depok</td>\n",
       "      <td>100</td>\n",
       "      <td>4.9</td>\n",
       "      <td>Jabodetabek</td>\n",
       "    </tr>\n",
       "    <tr>\n",
       "      <th>3</th>\n",
       "      <td>Seblak Instan Ceu Nthien Khas Bandung Rasana N...</td>\n",
       "      <td>17000</td>\n",
       "      <td>Central Seblak Nusantara</td>\n",
       "      <td>Tangerang Selatan</td>\n",
       "      <td>2000</td>\n",
       "      <td>4.9</td>\n",
       "      <td>Jabodetabek</td>\n",
       "    </tr>\n",
       "    <tr>\n",
       "      <th>4</th>\n",
       "      <td>KERUPUK SEBLAK MENTAH ANEKA WARNA</td>\n",
       "      <td>11500</td>\n",
       "      <td>jajanangarut19</td>\n",
       "      <td>Jakarta Selatan</td>\n",
       "      <td>250</td>\n",
       "      <td>4.9</td>\n",
       "      <td>Jabodetabek</td>\n",
       "    </tr>\n",
       "  </tbody>\n",
       "</table>\n",
       "</div>"
      ],
      "text/plain": [
       "                                         nama_produk  harga  \\\n",
       "0  Gelifood Seblak Instan Kerupuk Mawar Bumbu Ken...  13000   \n",
       "1                      Kylafood Seblak Original Play  15050   \n",
       "2            Seblak Rafael, Seblak Coet Instan Halal  25000   \n",
       "3  Seblak Instan Ceu Nthien Khas Bandung Rasana N...  17000   \n",
       "4                  KERUPUK SEBLAK MENTAH ANEKA WARNA  11500   \n",
       "\n",
       "                       toko        lokasi_toko  terjual  nilai_produk  \\\n",
       "0                  Lidigeli         Kab. Garut      250           4.8   \n",
       "1                  kylafood            Bandung     1000           5.0   \n",
       "2         Brother Meat Shop              Depok      100           4.9   \n",
       "3  Central Seblak Nusantara  Tangerang Selatan     2000           4.9   \n",
       "4            jajanangarut19    Jakarta Selatan      250           4.9   \n",
       "\n",
       "               area  \n",
       "0  Luar Jabodetabek  \n",
       "1  Luar Jabodetabek  \n",
       "2       Jabodetabek  \n",
       "3       Jabodetabek  \n",
       "4       Jabodetabek  "
      ]
     },
     "execution_count": 178,
     "metadata": {},
     "output_type": "execute_result"
    }
   ],
   "source": [
    "listArea = [] # variabel penampung iterasi \n",
    "columnSource = productsClean_df['lokasi_toko'] # variabel penampung seluruh entry pada kolom `lokasi_toko`\n",
    "\n",
    "# jalankan loop ini untuk mengidentifikasikan kesesuaian isi string di `columnSource` dengan kondisi\n",
    "for entry in columnSource:\n",
    "    if 'Jakarta' in entry:\n",
    "        listArea.append('Jabodetabek') # masukkan string 'Jabodetabek' pada list `listArea` bila pada entry terdapat string 'Jakarta'\n",
    "    elif 'Bogor' in entry:\n",
    "        listArea.append('Jabodetabek') # masukkan string 'Jabodetabek' pada list `listArea` bila pada entry terdapat string 'Bogor'\n",
    "    elif 'Depok' in entry:\n",
    "        listArea.append('Jabodetabek') # masukkan string 'Jabodetabek' pada list `listArea` bila pada entry terdapat string 'Depok'\n",
    "    elif 'Tangerang' in entry:\n",
    "        listArea.append('Jabodetabek') # masukkan string 'Jabodetabek' pada list `listArea` bila pada entry terdapat string 'Tangerang'\n",
    "    elif 'Bekasi' in entry:\n",
    "        listArea.append('Jabodetabek') # masukkan string 'Jabodetabek' pada list `listArea` bila pada entry terdapat string 'Bekasi'\n",
    "    else:\n",
    "        listArea.append('Luar Jabodetabek') # masukkan string 'Luar Jabodetabek' pada list `listArea` bila seluruh kondisi sebelumnya tidak terpenuhi\n",
    "        \n",
    "productsClean_df['area'] = listArea # buat kolom baru berisi status area lokasi toko\n",
    "\n",
    "productsClean_df.head(5) # cek hasil penambahan kolom\n",
    "\n"
   ]
  },
  {
   "cell_type": "markdown",
   "metadata": {},
   "source": [
    "Deskripsi: Tabel `productsClean_df` yang baru ini telah memiliki indikator nilai yang menunjukkan baik lokasi toko penjual toko terletak di area Jabodetabek maupun di luar Jabodetabek."
   ]
  },
  {
   "cell_type": "code",
   "execution_count": 53,
   "metadata": {},
   "outputs": [
    {
     "name": "stdout",
     "output_type": "stream",
     "text": [
      "Jumlah produk yang dipasarkan di area Jabodetabek: 422 produk.\n",
      "Jumlah produk yang dipasarkan di area luar Jabodetabek: 239 produk.\n"
     ]
    }
   ],
   "source": [
    "lenMetroArea = len(productsClean_df[productsClean_df['area'] == 'Jabodetabek']) # simpan nilai jumlah produk yang pada kolom `area` terisi \"Jabodetabek\"\n",
    "lenNonMetroArea = len(productsClean_df[productsClean_df['area'] == 'Luar Jabodetabek']) # simpan nilai jumlah produk yang pada kolom `area` terisi \"Luar Jabodetabek\"\n",
    "\n",
    "\n",
    "print(f'Jumlah produk yang dipasarkan di area Jabodetabek: {lenMetroArea} produk.')\n",
    "print(f'Jumlah produk yang dipasarkan di area luar Jabodetabek: {lenNonMetroArea} produk.')"
   ]
  },
  {
   "cell_type": "markdown",
   "metadata": {},
   "source": [
    "Deskripsi: Terdapat 422 produk dari 661 produk yang dipasarkan oleh toko-toko yang berasal dari area Jabodetabek. Sementara itu, sisanya, sebanyak 239 produk dipasarkan dari toko-toko di luar jabodetabek."
   ]
  },
  {
   "cell_type": "code",
   "execution_count": 241,
   "metadata": {},
   "outputs": [
    {
     "name": "stdout",
     "output_type": "stream",
     "text": [
      "Jumlah toko dari area Jabodetabek: 199 toko.\n",
      "Jumlah toko dari area luar Jabodetabek: 122 toko.\n"
     ]
    }
   ],
   "source": [
    "uniqueShopMetro = len(productsClean_df[productsClean_df['area'] == 'Jabodetabek']['toko'].unique()) # simpan total toko (unique value) yang pada kolom `area` terisi \"Jabodetabek\"\n",
    "uniqueShopNonMetro = len(productsClean_df[productsClean_df['area'] == 'Luar Jabodetabek']['toko'].unique()) # simpan total toko (unique value) yang pada kolom `area` terisi \"Luar Jabodetabek\"\n",
    "\n",
    "print(f'Jumlah toko dari area Jabodetabek: {uniqueShopMetro} toko.')\n",
    "print(f'Jumlah toko dari area luar Jabodetabek: {uniqueShopNonMetro} toko.')"
   ]
  },
  {
   "cell_type": "markdown",
   "metadata": {},
   "source": [
    "Deskripsi: Terdapat 199 toko dari 321 toko yang menjajakan dagangan seblak di Tokopedia pada 10 halaman pencarian pertama. Toko dari area Jabodetabek mengambil porsi sebanyak 61,66% pasar seblak di Tokopedia.  \n",
    "  \n",
    "Sementara itu, terdapat 122 toko yang menjajakan dagangan seblak di Tokopedia pada 10 halaman pencarian pertama. Toko tersebut mengambil pangsa pasar sebesar 38,01% penjual seblak di Tokopedia.  \n",
    "  \n",
    "Hal ini menyimpulkan, mayoritas aktivitas distribusi produk seblak dari produsen/distributor ke konsumen masih terpusat di area Jabodetabek."
   ]
  },
  {
   "cell_type": "markdown",
   "metadata": {},
   "source": [
    "## C9: Simpan Hasil pembersihan data ke dalam format CSV"
   ]
  },
  {
   "cell_type": "code",
   "execution_count": 242,
   "metadata": {},
   "outputs": [],
   "source": [
    "# simpan tabel dalam `productsClean_df` ke dalam tabel csv `productsCleanTable.csv`\n",
    "productsClean_df.to_csv('productsCleanTable.csv', index=False)"
   ]
  },
  {
   "cell_type": "markdown",
   "metadata": {},
   "source": [
    "# D. Analisis Data"
   ]
  },
  {
   "cell_type": "code",
   "execution_count": 4,
   "metadata": {},
   "outputs": [
    {
     "data": {
      "text/html": [
       "<div>\n",
       "<style scoped>\n",
       "    .dataframe tbody tr th:only-of-type {\n",
       "        vertical-align: middle;\n",
       "    }\n",
       "\n",
       "    .dataframe tbody tr th {\n",
       "        vertical-align: top;\n",
       "    }\n",
       "\n",
       "    .dataframe thead th {\n",
       "        text-align: right;\n",
       "    }\n",
       "</style>\n",
       "<table border=\"1\" class=\"dataframe\">\n",
       "  <thead>\n",
       "    <tr style=\"text-align: right;\">\n",
       "      <th></th>\n",
       "      <th>nama_produk</th>\n",
       "      <th>harga</th>\n",
       "      <th>toko</th>\n",
       "      <th>lokasi_toko</th>\n",
       "      <th>terjual</th>\n",
       "      <th>nilai_produk</th>\n",
       "      <th>area</th>\n",
       "    </tr>\n",
       "  </thead>\n",
       "  <tbody>\n",
       "    <tr>\n",
       "      <th>0</th>\n",
       "      <td>Gelifood Seblak Instan Kerupuk Mawar Bumbu Ken...</td>\n",
       "      <td>13000</td>\n",
       "      <td>Lidigeli</td>\n",
       "      <td>Kab. Garut</td>\n",
       "      <td>250</td>\n",
       "      <td>4.8</td>\n",
       "      <td>Luar Jabodetabek</td>\n",
       "    </tr>\n",
       "    <tr>\n",
       "      <th>1</th>\n",
       "      <td>Kylafood Seblak Original Play</td>\n",
       "      <td>15050</td>\n",
       "      <td>kylafood</td>\n",
       "      <td>Bandung</td>\n",
       "      <td>1000</td>\n",
       "      <td>5.0</td>\n",
       "      <td>Luar Jabodetabek</td>\n",
       "    </tr>\n",
       "    <tr>\n",
       "      <th>2</th>\n",
       "      <td>Seblak Rafael, Seblak Coet Instan Halal</td>\n",
       "      <td>25000</td>\n",
       "      <td>Brother Meat Shop</td>\n",
       "      <td>Depok</td>\n",
       "      <td>100</td>\n",
       "      <td>4.9</td>\n",
       "      <td>Jabodetabek</td>\n",
       "    </tr>\n",
       "    <tr>\n",
       "      <th>3</th>\n",
       "      <td>Seblak Instan Ceu Nthien Khas Bandung Rasana N...</td>\n",
       "      <td>17000</td>\n",
       "      <td>Central Seblak Nusantara</td>\n",
       "      <td>Tangerang Selatan</td>\n",
       "      <td>2000</td>\n",
       "      <td>4.9</td>\n",
       "      <td>Jabodetabek</td>\n",
       "    </tr>\n",
       "    <tr>\n",
       "      <th>4</th>\n",
       "      <td>KERUPUK SEBLAK MENTAH ANEKA WARNA</td>\n",
       "      <td>11500</td>\n",
       "      <td>jajanangarut19</td>\n",
       "      <td>Jakarta Selatan</td>\n",
       "      <td>250</td>\n",
       "      <td>4.9</td>\n",
       "      <td>Jabodetabek</td>\n",
       "    </tr>\n",
       "    <tr>\n",
       "      <th>...</th>\n",
       "      <td>...</td>\n",
       "      <td>...</td>\n",
       "      <td>...</td>\n",
       "      <td>...</td>\n",
       "      <td>...</td>\n",
       "      <td>...</td>\n",
       "      <td>...</td>\n",
       "    </tr>\n",
       "    <tr>\n",
       "      <th>656</th>\n",
       "      <td>SEBLAK JUARA INSTAN MASAK BASAH ASLI BANDUNG E...</td>\n",
       "      <td>22000</td>\n",
       "      <td>Rasa Juara Indonesia</td>\n",
       "      <td>Kab. Bandung</td>\n",
       "      <td>1000</td>\n",
       "      <td>4.9</td>\n",
       "      <td>Luar Jabodetabek</td>\n",
       "    </tr>\n",
       "    <tr>\n",
       "      <th>657</th>\n",
       "      <td>seblak kering bumbu kacang(100gr)</td>\n",
       "      <td>4999</td>\n",
       "      <td>seblak_joy</td>\n",
       "      <td>Kab. Bandung</td>\n",
       "      <td>20</td>\n",
       "      <td>5.0</td>\n",
       "      <td>Luar Jabodetabek</td>\n",
       "    </tr>\n",
       "    <tr>\n",
       "      <th>658</th>\n",
       "      <td>Kerupuk Rafael/kerupuk seblak viral/kerupuk ma...</td>\n",
       "      <td>33000</td>\n",
       "      <td>KEDAI SAYUR KU</td>\n",
       "      <td>Tangerang Selatan</td>\n",
       "      <td>30</td>\n",
       "      <td>4.9</td>\n",
       "      <td>Jabodetabek</td>\n",
       "    </tr>\n",
       "    <tr>\n",
       "      <th>659</th>\n",
       "      <td>Krupuk Seblak Kencur Seblak Jablay 250gr</td>\n",
       "      <td>12500</td>\n",
       "      <td>Mokosnacksby</td>\n",
       "      <td>Surabaya</td>\n",
       "      <td>250</td>\n",
       "      <td>4.9</td>\n",
       "      <td>Luar Jabodetabek</td>\n",
       "    </tr>\n",
       "    <tr>\n",
       "      <th>660</th>\n",
       "      <td>Seblak kerupuk bintang pedas ekstra daun jeruk...</td>\n",
       "      <td>5000</td>\n",
       "      <td>Seblak putra bandung</td>\n",
       "      <td>Kab. Bandung</td>\n",
       "      <td>60</td>\n",
       "      <td>4.9</td>\n",
       "      <td>Luar Jabodetabek</td>\n",
       "    </tr>\n",
       "  </tbody>\n",
       "</table>\n",
       "<p>661 rows × 7 columns</p>\n",
       "</div>"
      ],
      "text/plain": [
       "                                           nama_produk  harga  \\\n",
       "0    Gelifood Seblak Instan Kerupuk Mawar Bumbu Ken...  13000   \n",
       "1                        Kylafood Seblak Original Play  15050   \n",
       "2              Seblak Rafael, Seblak Coet Instan Halal  25000   \n",
       "3    Seblak Instan Ceu Nthien Khas Bandung Rasana N...  17000   \n",
       "4                    KERUPUK SEBLAK MENTAH ANEKA WARNA  11500   \n",
       "..                                                 ...    ...   \n",
       "656  SEBLAK JUARA INSTAN MASAK BASAH ASLI BANDUNG E...  22000   \n",
       "657                  seblak kering bumbu kacang(100gr)   4999   \n",
       "658  Kerupuk Rafael/kerupuk seblak viral/kerupuk ma...  33000   \n",
       "659           Krupuk Seblak Kencur Seblak Jablay 250gr  12500   \n",
       "660  Seblak kerupuk bintang pedas ekstra daun jeruk...   5000   \n",
       "\n",
       "                         toko        lokasi_toko  terjual  nilai_produk  \\\n",
       "0                    Lidigeli         Kab. Garut      250           4.8   \n",
       "1                    kylafood            Bandung     1000           5.0   \n",
       "2           Brother Meat Shop              Depok      100           4.9   \n",
       "3    Central Seblak Nusantara  Tangerang Selatan     2000           4.9   \n",
       "4              jajanangarut19    Jakarta Selatan      250           4.9   \n",
       "..                        ...                ...      ...           ...   \n",
       "656      Rasa Juara Indonesia       Kab. Bandung     1000           4.9   \n",
       "657                seblak_joy       Kab. Bandung       20           5.0   \n",
       "658            KEDAI SAYUR KU  Tangerang Selatan       30           4.9   \n",
       "659              Mokosnacksby           Surabaya      250           4.9   \n",
       "660      Seblak putra bandung       Kab. Bandung       60           4.9   \n",
       "\n",
       "                 area  \n",
       "0    Luar Jabodetabek  \n",
       "1    Luar Jabodetabek  \n",
       "2         Jabodetabek  \n",
       "3         Jabodetabek  \n",
       "4         Jabodetabek  \n",
       "..                ...  \n",
       "656  Luar Jabodetabek  \n",
       "657  Luar Jabodetabek  \n",
       "658       Jabodetabek  \n",
       "659  Luar Jabodetabek  \n",
       "660  Luar Jabodetabek  \n",
       "\n",
       "[661 rows x 7 columns]"
      ]
     },
     "execution_count": 4,
     "metadata": {},
     "output_type": "execute_result"
    }
   ],
   "source": [
    "# Load data tabel csv yang sudah bersih\n",
    "\n",
    "productsClean_df = pd.read_csv('productsCleanTable.csv')\n",
    "\n",
    "productsClean_df"
   ]
  },
  {
   "cell_type": "markdown",
   "metadata": {},
   "source": [
    "## D1. Analisis Statistik Deskriptif"
   ]
  },
  {
   "cell_type": "code",
   "execution_count": 5,
   "metadata": {},
   "outputs": [
    {
     "name": "stdout",
     "output_type": "stream",
     "text": [
      "Rata-rata harga seblak di Tokopedia (Rp): 23028.934947049926\n",
      "Nilai tengah harga seblak di Tokopedia (Rp): 15000.0\n",
      "Modus dari nilai harga seblak di Tokopedia (Rp): 5000\n",
      "Harga seblak terendah di Tokopedia (Rp): 350\n",
      "Harga seblak tertinggi di Tokopedia (Rp): 216630\n",
      "Rentang harga seblak di Tokopedia (Rp): 216280\n",
      "Standar deviasi harga seblak di Tokopedia (Rp): 25441.67290103655\n",
      "Arah kecenderungan skewness harga seblak di Tokopedia: 3.267570070682544\n",
      "Arah kecenderungan kurtosis harga seblak di Tokopedia: 14.45695513539628\n"
     ]
    }
   ],
   "source": [
    "priceColumn = productsClean_df['harga']\n",
    "\n",
    "meanPrice = priceColumn.mean()\n",
    "medianPrice = priceColumn.median()\n",
    "modePrice = priceColumn.mode()[0]\n",
    "minPrice = priceColumn.min()\n",
    "maxPrice = priceColumn.max()\n",
    "stdevPrice = priceColumn.std()\n",
    "skewnessPrice = priceColumn.skew()\n",
    "kurtPrice = priceColumn.kurt()\n",
    "\n",
    "print(f'Rata-rata harga seblak di Tokopedia (Rp): {meanPrice}')\n",
    "print(f'Nilai tengah harga seblak di Tokopedia (Rp): {medianPrice}')\n",
    "print(f'Modus dari nilai harga seblak di Tokopedia (Rp): {modePrice}')\n",
    "print(f'Harga seblak terendah di Tokopedia (Rp): {minPrice}')\n",
    "print(f'Harga seblak tertinggi di Tokopedia (Rp): {maxPrice}')\n",
    "print(f'Rentang harga seblak di Tokopedia (Rp): {maxPrice - minPrice}')\n",
    "print(f'Standar deviasi harga seblak di Tokopedia (Rp): {stdevPrice}')\n",
    "print(f'Arah kecenderungan skewness harga seblak di Tokopedia: {skewnessPrice}')\n",
    "print(f'Arah kecenderungan kurtosis harga seblak di Tokopedia: {kurtPrice}')"
   ]
  },
  {
   "cell_type": "markdown",
   "metadata": {},
   "source": [
    "Deskripsi:  \n",
    "Dari pencarian di sepuluh halaman pencarian 'seblak' di Tokopedia, diketahui rerata harga dari seluruh produk yang dijual ialah sekitar Rp23.028,93. Harga produk seblak paling murah ialah Rp350 dan yang termahal ialah Rp216.630. Nilai tengah dari serangkaian rentang harga tersebut ialah ada di angka Rp15.000,00. Harga seblak yang umumnya dijual ialah di harga Rp5.000 per satuan.  \n",
    "  \n",
    "Melihat nilai `median`< `mean` kolom `harga`, diketahui distribusi harga produk seblak dengan sampel data 661 cenderung condong (_skew_) ke kiri, dengan ragam outlier yang cenderung banyak di kanan (nilai positif). Hal ini dibuktikan dengan nilai _skewness_ pada data di kolom `harga` yang bernilai 3,2. Hal ini menunjukkan distribusi sampel data cenderung tidak normal.  \n",
    "\n",
    "Banyaknya _outlier_ juga terdeteksi nilai kurtosis yang ada di angka 14,45, yang mengindikasikan besarnya jumlah data yang merupakan _outlier_ data.  \n",
    "  \n",
    "Besarnya nilai standar deviasi, yang melebihi nilai rata-rata data itu sendiri menunjukkan adanya ketimpangan yang ekstrem dipengaruhi oleh hadirnya beberapa data ekstrem (_outlier_) pada serangkaian data."
   ]
  },
  {
   "cell_type": "markdown",
   "metadata": {},
   "source": [
    "## D2. Potensi minimum dan maksimum pendapatan\n",
    "  \n",
    "Sebelum mulai mengambil keputusan dalam berjualan seblak secara _dropship_, saya perlu memerkirakan terlebih dahulu berapa potensi pendapatan yang sekiranya akan saya dapatkan dengan _dropship_ produk seblak dari Tokopedia.  \n",
    "\n",
    "Hal ini dapat saya lakukan dengan membersihkan data outlier dari potensi pendapatan yang dapat saya terima dengan mengalikan harga produk dan total harga yang terjual."
   ]
  },
  {
   "cell_type": "code",
   "execution_count": 6,
   "metadata": {},
   "outputs": [
    {
     "name": "stdout",
     "output_type": "stream",
     "text": [
      "Minimum potensi pendapatan dari hasil penjualan seblak dalam satu bulan (Rp): 6153331.762374804\n",
      "Maximum potensi pendapatan dari hasil penjualan seblak dalam satu bulan (Rp): 6157210.7913317\n"
     ]
    }
   ],
   "source": [
    "lenTable = len(productsClean_df) # simpan ada berapa entri data di dalam tabel `productsClean_df`\n",
    "listPotentialIncome = [] # buat list kosong penampung isian nilai yang akan menggambarkan potensi penjualan\n",
    "\n",
    "# jalankan loop yang akan mengalikan entry harga dan angka banyaknya yang sudah terjual masing-masing index yang terepresentasikan melalui range length tabel\n",
    "for index in range(lenTable):\n",
    "    potentialIncome = productsClean_df['harga'][index] * productsClean_df['terjual'][index]\n",
    "    listPotentialIncome.append(potentialIncome)\n",
    "\n",
    "productsClean_df['potensi_pendapatan'] = listPotentialIncome # buat kolom baru berjudul 'potensi_interval'\n",
    "\n",
    "# script untuk mengeluarkan output berupa nilai rentang atas dan rentang bawah potensi pendapatan dengan tingkat kepercayaan sebesar 95%\n",
    "low, up = stats.norm.interval(confidence=0.95, loc=productsClean_df['potensi_pendapatan'].mean(), scale=stdevPrice/np.sqrt(lenTable))\n",
    "\n",
    "print(f'Minimum potensi pendapatan dari hasil penjualan seblak dalam satu bulan (Rp): {low}')\n",
    "print(f'Maximum potensi pendapatan dari hasil penjualan seblak dalam satu bulan (Rp): {up}')"
   ]
  },
  {
   "cell_type": "markdown",
   "metadata": {},
   "source": [
    "Deskripsi:  \n",
    "Berdasarkan hasil perhitungan nilai batas atas dan batas bawah penjualan dengan tingkat kepercayaan (confidence level) sebesar 95 persen, diketahui nilai minimum yang akan saya dapat ada di angka Rp6.153.331,62 per bulan. Sementara itu, diketahui nilai maksimum potensi hasil penjualan yang akan saya terima dengan berjualan/_dropship_ seblak di Tokopedia ialah sebesar Rp6.157.210,79"
   ]
  },
  {
   "cell_type": "markdown",
   "metadata": {},
   "source": [
    "## D3. Perbedaan harga seblak yang dijual dari Jabodetabek dan luar Jabodetabek"
   ]
  },
  {
   "cell_type": "markdown",
   "metadata": {},
   "source": [
    "Satu hal yang menarik untuk dieksplorasi ialah penjualan produk seblak di Tokopedia yang dapat dikategorikan secara lebih komprehensif, dengan membagi data ke dalam dua kategori area jual \"Jabodetabek\" dan \"Luar Jabodetabek\". Secara _common sense_, harga suatu produk jualan akan lebih mahal ketika barang tersebut dijual di tempat yang jauh dari area distribusi pusat. Sementara itu, kita mengenal asumsi bahwa Jakarta, terlebih area Jabodetabek, menjadi pusat atau sentra distribusi.  \n",
    "  \n",
    "Berdasarkan persoalan berikut, kita dapat melakukan uji statistik lebih lanjut dengan menerapkan uji statistik terhadap dua sampel independen. Kedua sampel tersebut berasal dari data yang masing-masing dikategorikan sebagai data harga produk yang dijual dari area Jabodetabek serta area luar Jabodetabek. Mengingat kedua kelompok sampel ini hakikatnya adalah dua kategori kolom 'area' yang berbeda, uji statistik yang tepat ialah dengan menggunakan uji Spearman.  \n",
    "  \n",
    "Hipotesis:  \n",
    "**H0 :** Harga produk seblak yang dijual dari area Jabodetabek sama saja dengan yang dijual dari daerah luar Jabodetabek  \n",
    "  \n",
    "**H1 :** Ada hubungan antara harga produk seblak yang dijual di Tokopedia dengan lokasi asal penjualan produk (Jabodetabek dan luar Jabodetabek)  \n",
    "  \n",
    "Secara mudah, penulisan hipotesis dengan menggunakan notasi persamaan ialah sebagaimana berikut.  \n",
    "  \n",
    "> `H0: Harga Jabodetabek == Harga luar Jabodetabek`  \n",
    "`H1: Harga Jabodetabek != Harga luar Jabodetabek`"
   ]
  },
  {
   "cell_type": "code",
   "execution_count": 7,
   "metadata": {},
   "outputs": [
    {
     "data": {
      "text/plain": [
       "array(['Luar Jabodetabek', 'Jabodetabek'], dtype=object)"
      ]
     },
     "execution_count": 7,
     "metadata": {},
     "output_type": "execute_result"
    }
   ],
   "source": [
    "# Cari nilai unik dalam kolom 'area'\n",
    "\n",
    "productsClean_df['area'].unique()"
   ]
  },
  {
   "cell_type": "code",
   "execution_count": 9,
   "metadata": {},
   "outputs": [],
   "source": [
    "priceMetro = productsClean_df['harga'][(productsClean_df['area'] == 'Jabodetabek')] # simpan tabel dengan memanggil kolom 'harga' dengan kriteria isi kolom 'area' adalah 'Jabodetabek'\n",
    "priceNonMetro = productsClean_df['harga'][(productsClean_df['area'] == 'Luar Jabodetabek')] # simpan tabel dengan memanggil kolom 'harga' dengan kriteria isi kolom 'area' adalah 'Luar Jabodetabek'"
   ]
  },
  {
   "cell_type": "code",
   "execution_count": 10,
   "metadata": {},
   "outputs": [
    {
     "name": "stdout",
     "output_type": "stream",
     "text": [
      "Skor T-test: 0.355545088171272, dengan angka p-Value: 0.7222950475907419\n"
     ]
    }
   ],
   "source": [
    "tTestScore, pValueT = stats.ttest_ind(priceMetro, priceNonMetro) # lakukan uji two-pair t-test independent sample\n",
    "\n",
    "print(f'Skor T-test: {tTestScore}, dengan angka p-Value: {pValueT}')"
   ]
  },
  {
   "cell_type": "markdown",
   "metadata": {},
   "source": [
    "Kesimpulan:  \n",
    "Dengan dilakukannya uji statistik dua sampel independen, diketahui p-value uji statistik (0.7222950475907419) bernilai lebih besar dari nilai kritis yang telah ditetapkan (0.05). Dari sini kita ketahui bahwa hipotesis 0 gagal untuk ditolak oleh uji statistik berikut (_fail to reject_). Hal ini mengartikan, harga produk seblak yang dijual oleh toko yang berasal dari area Jabodetabek maupun luar Jabodetabek via Tokopedia tidak terdapat adanya perbedaan yang signifikan.  "
   ]
  },
  {
   "cell_type": "markdown",
   "metadata": {},
   "source": [
    "## D4. Hubungan antara harga dan popularitas produk  \n",
    "  \n",
    "Langkah selanjutnya adalah menentukan produk seblak yang akan bernilai ekonomis dengan memertimbangkan popularitasnya dengan tetap mengacu pada prinsip bisnis yang berupaya menekan modal seminimal mungkin. Hal ini dapat diraih melalui eksplorasi variabel/kolom harga dan bagaimana hubungannya terhadap nilai yang konsumen berikan terhadap produk tersebut.  \n",
    "  \n",
    "Cara ini dapat diraih dengan uji korelasi antar variabel. Umumnya, ada tiga jenis uji korelasi yang dapat dipilih sesuai dengan kondisi yang berlaku. Mengingat data pada kolom harga merupakan data kontinual dan nilai produk (rating) yang cenderung bersifat bukan kontinual, uji statistik korelasi yang tepat untuk soal berikut ialah uji korelasi Spearman's Rho.  \n",
    "  \n",
    "Berdasarkan kasus yang sedang diangkat, hipotesis yang dapat dibangun untuk melakukan uji berikut ialah sebagaimana berikut:  \n",
    "  \n",
    "`H0: Tidak ada hubungan yang signifikan antara harga dan popularitas dari sebuah produk seblak yang dijual di Tokopedia`  \n",
    "`H1: Ada hubungan yang signifikan antara harga dan popularitas dari sebuah produk seblak yang dijual di Tokopedia`"
   ]
  },
  {
   "cell_type": "code",
   "execution_count": 13,
   "metadata": {},
   "outputs": [
    {
     "name": "stdout",
     "output_type": "stream",
     "text": [
      "Correlation: 0.13646275147015283, at p-value: 0.0004343582123072226\n"
     ]
    }
   ],
   "source": [
    "# lakukan uji korelasi Spearman dengan memanggil fungsi berikut, lalu simpan hasilnya ke dalam dua variabel yang berbeda secara berurutan\n",
    "corrSpearman, pValueS = stats.spearmanr(productsClean_df['harga'], productsClean_df['nilai_produk'])\n",
    "\n",
    "print(f'Correlation: {corrSpearman}, at p-value: {pValueS}')"
   ]
  },
  {
   "cell_type": "markdown",
   "metadata": {},
   "source": [
    "Kesimpulan: Harga berperan dalam menentukan minat beli orang-orang terhadap seblak di Tokopedia. Hal ini dibuktikan dengan perolehan nilai p-value yang lebih kecil dari nilai _critical_ research yang telah ditetapkan sebelumnya (p-value: 0.0004343582123072226, critical value: 0.05). Dengan demikian, harga berkaitan dengan popularitas produk seblak."
   ]
  },
  {
   "cell_type": "markdown",
   "metadata": {},
   "source": [
    "# E. Kesimpulan"
   ]
  },
  {
   "cell_type": "markdown",
   "metadata": {},
   "source": [
    "Berdasarkan serangkaian hasil observasi dan analisis data yang telah dilakukan, data etalase produk seblak yang dijual di platform Tokopedia cenderung bervariasi. Ada yang dijual mulai dari Rp350 hingga semahal lebih dari Rp200 ribu rupiah. Hal ini menjadikan kecenderungan distribusi harga produk yang tidak normal dan cenderung condong ke arah kiri. Artinya, hanya segelintir barang yang memang punya harga yang ekstrem dan di luar dari pola/harga pasaran umumnya. Sementara itu, temuan tes kurtosis juga mengindikasikan sebagian besar produk hanya berpusat pada satu titik harga tertentu saja, membuktikan bahwa harga seblak memiliki satu nominal ekuilibrium pasar serta dapat memiliki kasus harga yang spesial yang secara ekstrem lebih murah atau mahal, tetapi dengan nama-nama barang yang tidak banyak secara jumlah.\n",
    "\n",
    "Hal ini mungkin saja terjadi mengingat produk seblak, selain umumnya dijual dalam bentuk kemasan, ada juga indikasi dijual secara grosir/kiloan. Perlu dicatat bahwa dengan melakukan kueri pencarian kata 'seblak' di platform Tokopedia, ada banyak kemungkinan hasil pencarian yang akan muncul, seperti halnya orang yang hanya menjual bahan baku seblak, bumbunya saja, maupun kemasannya pun dapat berpotensi masuk ke dalam hasil pengumpulan data dengan teknik _web scrapping_.  "
   ]
  },
  {
   "cell_type": "markdown",
   "metadata": {},
   "source": [
    "Dengan menggunakan asumsi pendapatan bulanan atas berjualan seblak dengan mengalikan harga dan jumlah produk terjual, potensi pendapatan yang dapat diraih bervariasi. Oleh karenanya, pembersihan nilai outlier dari pengalian kedua variabel tersebut memberikan kesimpulan, setidaknya pendapatan penjualan seblak tiap bulan ada di antara Rp6.153.331.62 hingga Rp6.157,210,79. Hal ini sudah sesuai dengan tujuan utama yang ingin mendapatkan penghasilan tambahan berjualan seblak di angkat setidaknya Rp5.000.000 tiap bulannya selama 3 bulan mendatang. "
   ]
  },
  {
   "cell_type": "markdown",
   "metadata": {},
   "source": [
    "Dalam eksekusinya, _dropshipping_ tidak akan memertimbangkan lokasi toko sebagai basis penentuan produk yang akan dibeli. Hasil analisis menemukan, harga produk seblak tidak terpengaruh dengan lokasi penjual. Hal ini sangat krusial sehingga kendala seputar ketepatan waktu dan distribusi tidak akan mempengaruhi proses bisnis di masa mendatang."
   ]
  },
  {
   "cell_type": "markdown",
   "metadata": {},
   "source": [
    "Viralnya produk seblak juga akan dijadikan pertimbangan dalam melakukan langkah utama bisnis, dengan melihat aspek popularitas dari sebuah produk. Hasil temuan menunjukkan, pembeli cenderung menggemari produk seblak yang lebih murah. Uji korelasi Spearman's Rho menunjukkan, semakin murah produk seblak, semakin besar kecenderungannya untuk menjadi viral dan digemari. Hal ini akan sangat menunjang prospek bisnis yang sedang direncanakan. Ke depannya, bisnis seblak akan memuat produk-produk yang murah yang telah memiliki rating yang baik oleh pembeli-pembeli sebelumnya. "
   ]
  }
 ],
 "metadata": {
  "kernelspec": {
   "display_name": "base",
   "language": "python",
   "name": "python3"
  },
  "language_info": {
   "codemirror_mode": {
    "name": "ipython",
    "version": 3
   },
   "file_extension": ".py",
   "mimetype": "text/x-python",
   "name": "python",
   "nbconvert_exporter": "python",
   "pygments_lexer": "ipython3",
   "version": "3.11.5"
  }
 },
 "nbformat": 4,
 "nbformat_minor": 2
}
